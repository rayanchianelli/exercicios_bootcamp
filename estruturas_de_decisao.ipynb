{
  "nbformat": 4,
  "nbformat_minor": 0,
  "metadata": {
    "colab": {
      "provenance": [],
      "authorship_tag": "ABX9TyNZhqHc0a5PZM/+wWVoPUsv",
      "include_colab_link": true
    },
    "kernelspec": {
      "name": "python3",
      "display_name": "Python 3"
    },
    "language_info": {
      "name": "python"
    }
  },
  "cells": [
    {
      "cell_type": "markdown",
      "metadata": {
        "id": "view-in-github",
        "colab_type": "text"
      },
      "source": [
        "<a href=\"https://colab.research.google.com/github/rayannoyma/exercicios_bootcamp/blob/main/estruturas_de_decisao.ipynb\" target=\"_parent\"><img src=\"https://colab.research.google.com/assets/colab-badge.svg\" alt=\"Open In Colab\"/></a>"
      ]
    },
    {
      "cell_type": "markdown",
      "source": [
        "Faça um Programa que peça dois números e imprima o maior deles."
      ],
      "metadata": {
        "id": "Rdit70t3ngZS"
      }
    },
    {
      "cell_type": "code",
      "execution_count": null,
      "metadata": {
        "colab": {
          "base_uri": "https://localhost:8080/"
        },
        "id": "4VQ2HyM1m1oB",
        "outputId": "64c39490-4349-40ab-fb42-1c4dbcef5c21"
      },
      "outputs": [
        {
          "name": "stdout",
          "output_type": "stream",
          "text": [
            "Escolha um numero 11\n",
            "Escolha outro numero 9\n"
          ]
        }
      ],
      "source": [
        "x = input('Escolha um numero ')\n",
        "y = input('Escolha outro numero ')\n",
        "if x > y:\n",
        "  print('X é maior que Y')"
      ]
    },
    {
      "cell_type": "markdown",
      "source": [
        "Faça um Programa que peça um valor e mostre na tela se o valor é positivo ou negativo."
      ],
      "metadata": {
        "id": "xg_fQUVJpKt6"
      }
    },
    {
      "cell_type": "code",
      "source": [
        "x = int(input('Escolha um numero '))\n",
        "if x>0:\n",
        "  print(x,'é positivo')\n",
        "else:\n",
        "  print(x,'é negativo')"
      ],
      "metadata": {
        "colab": {
          "base_uri": "https://localhost:8080/"
        },
        "id": "eo-mK7G8pLqa",
        "outputId": "05d26bcd-331a-40c8-8f49-4430545e6fa7"
      },
      "execution_count": null,
      "outputs": [
        {
          "output_type": "stream",
          "name": "stdout",
          "text": [
            "Escolha um numero -15\n",
            "-15 é negativo\n"
          ]
        }
      ]
    },
    {
      "cell_type": "markdown",
      "source": [
        "Faça um Programa que verifique se uma letra digitada é \"F\" ou \"M\". Conforme a letra escrever: F - Feminino, M - Masculino, Sexo Inválido."
      ],
      "metadata": {
        "id": "eU4DQ47bqHUn"
      }
    },
    {
      "cell_type": "code",
      "source": [
        "z = input('Escolha F ou M ')\n",
        "if z == 'F':\n",
        "  print('Feminino')\n",
        "elif z == 'M':\n",
        "    print('Masculino')\n",
        "else:\n",
        "  print('Sexo Invalido')"
      ],
      "metadata": {
        "colab": {
          "base_uri": "https://localhost:8080/"
        },
        "id": "Y9nJu7pdqIBN",
        "outputId": "0058661e-c52c-4ada-d5d0-fc42bdc357fb"
      },
      "execution_count": null,
      "outputs": [
        {
          "output_type": "stream",
          "name": "stdout",
          "text": [
            "Escolha F ou M F\n",
            "Feminino\n"
          ]
        }
      ]
    },
    {
      "cell_type": "markdown",
      "source": [
        "Faça um Programa que verifique se uma letra digitada é vogal ou consoante."
      ],
      "metadata": {
        "id": "WtNmteJsrvlR"
      }
    },
    {
      "cell_type": "code",
      "source": [
        "t = input('Escolha uma letra de a ate z: ')\n",
        "vogais = ['a','e','i','o','u']\n",
        "if t in vogais:\n",
        "  print(t,'é uma vogal.')\n",
        "else:\n",
        "  print(t,'é uma consoante.')"
      ],
      "metadata": {
        "colab": {
          "base_uri": "https://localhost:8080/"
        },
        "id": "gBDOPC5srYtK",
        "outputId": "519fb78b-6d66-4f78-ba1a-96fa4046c425"
      },
      "execution_count": null,
      "outputs": [
        {
          "output_type": "stream",
          "name": "stdout",
          "text": [
            "Escolha uma letra de a ate z: e\n",
            "e é uma vogal.\n"
          ]
        }
      ]
    },
    {
      "cell_type": "markdown",
      "source": [
        "Faça um programa para a leitura de duas notas parciais de um aluno. O programa deve calcular a média alcançada por aluno e apresentar:\n",
        "\n",
        "A mensagem \"Aprovado\", se a média alcançada for maior ou igual a sete;\n",
        "\n",
        "A mensagem \"Reprovado\", se a média for menor do que sete;\n",
        "\n",
        "A mensagem \"Aprovado com Distinção\", se a média for igual a dez."
      ],
      "metadata": {
        "id": "OFQvH0GAtdd3"
      }
    },
    {
      "cell_type": "code",
      "source": [
        "nota1 = int(input('Insira aqui sua nota: '))\n",
        "nota2 = int(input('Insira aqui sua nota: '))\n",
        "media = (nota1 + nota2)/2\n",
        "if media == 10:\n",
        "  print('Aprovado com distinção')\n",
        "elif media>7:\n",
        "   print('Aprovado')\n",
        "else:\n",
        "      print('Reprovado')"
      ],
      "metadata": {
        "colab": {
          "base_uri": "https://localhost:8080/"
        },
        "id": "y-vwn8kiteY_",
        "outputId": "970a1928-1ab0-4d47-a67d-c32cc0a69c30"
      },
      "execution_count": null,
      "outputs": [
        {
          "output_type": "stream",
          "name": "stdout",
          "text": [
            "Insira aqui sua nota: 5\n",
            "Insira aqui sua nota: 5\n",
            "Reprovado\n"
          ]
        }
      ]
    },
    {
      "cell_type": "markdown",
      "source": [
        "\n",
        "Faça um Programa que pergunte em que turno você estuda. Peça para digitar M-matutino ou V-Vespertino ou N- Noturno. Imprima a mensagem \"Bom Dia!\", \"Boa Tarde!\" ou \"Boa Noite!\" ou \"Valor Inválido!\", conforme o caso."
      ],
      "metadata": {
        "id": "GJ6ftFH0uwr0"
      }
    },
    {
      "cell_type": "markdown",
      "source": [
        "Faça um codigo que leia três números e mostre o maior deles. "
      ],
      "metadata": {
        "id": "P-xBDFyIu8U1"
      }
    },
    {
      "cell_type": "code",
      "source": [
        "num1 = int(input('Insira aqui um numero: '))\n",
        "num2 = int(input('Insira aqui um numero: '))\n",
        "num3 = int(input('Insira aqui um numero: '))\n",
        "\n",
        "if num1>num2 and num1>num3:\n",
        "  print(num1,'é o maior numero.')\n",
        "elif num2>num1 and num2>num3:\n",
        "  print(num2,'é o maior numero.')\n",
        "else:\n",
        "  print(num3,'é o maior numero.')"
      ],
      "metadata": {
        "colab": {
          "base_uri": "https://localhost:8080/"
        },
        "id": "YAu-hP3Ju7q5",
        "outputId": "037057ec-ca51-4d90-ec41-481b208dd177"
      },
      "execution_count": null,
      "outputs": [
        {
          "output_type": "stream",
          "name": "stdout",
          "text": [
            "Insira aqui um numero: 7\n",
            "Insira aqui um numero: 8\n",
            "Insira aqui um numero: 9\n",
            "9 é o maior numero.\n"
          ]
        }
      ]
    },
    {
      "cell_type": "markdown",
      "source": [
        "Faça um programa que pergunte o preço de três produtos e informe qual produto você deve comprar, sabendo que a decisão é sempre pelo mais barato. "
      ],
      "metadata": {
        "id": "wPQhzl-Ywk-t"
      }
    },
    {
      "cell_type": "code",
      "source": [
        "preco1= float(input('Insira aqui o preço: '))\n",
        "preco2 = float(input('Insira aqui o segundo preço: '))\n",
        "preco3 = float(input('Insira aqui o terceiro preço: '))\n",
        "\n",
        "if preco3>preco1 and preco2>preco1:\n",
        "  print('O primeiro é mais barato.')\n",
        "elif preco3>preco2 and preco1>preco2:\n",
        "  print('O segundo é mais barato.')\n",
        "else:\n",
        "  print('O terceiro é o mais barato')"
      ],
      "metadata": {
        "colab": {
          "base_uri": "https://localhost:8080/"
        },
        "id": "1upNZLg0wkj9",
        "outputId": "506f0249-c876-430f-c1d5-6511826c606d"
      },
      "execution_count": null,
      "outputs": [
        {
          "output_type": "stream",
          "name": "stdout",
          "text": [
            "Insira aqui o preço: 5.4\n",
            "Insira aqui o segundo preço: 9.5\n",
            "Insira aqui o terceiro preço: 8.7\n",
            "O primeiro é mais barato.\n"
          ]
        }
      ]
    },
    {
      "cell_type": "markdown",
      "source": [
        "\n",
        "Faça um Programa que leia três números e mostre-os em ordem decrescente."
      ],
      "metadata": {
        "id": "40jJh0mUx40H"
      }
    },
    {
      "cell_type": "code",
      "source": [
        "num1 = int(input('Insira aqui um numero: '))\n",
        "num2 = int(input('Insira aqui um numero: '))\n",
        "num3 = int(input('Insira aqui um numero: '))\n",
        "\n",
        "maximo = max()"
      ],
      "metadata": {
        "id": "1MgMqECPx-4H"
      },
      "execution_count": null,
      "outputs": []
    }
  ]
}