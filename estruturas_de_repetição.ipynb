{
  "nbformat": 4,
  "nbformat_minor": 0,
  "metadata": {
    "colab": {
      "provenance": [],
      "authorship_tag": "ABX9TyNDhMNc8QLVbv2AnIX46HVA",
      "include_colab_link": true
    },
    "kernelspec": {
      "name": "python3",
      "display_name": "Python 3"
    },
    "language_info": {
      "name": "python"
    }
  },
  "cells": [
    {
      "cell_type": "markdown",
      "metadata": {
        "id": "view-in-github",
        "colab_type": "text"
      },
      "source": [
        "<a href=\"https://colab.research.google.com/github/rayannoyma/exercicios_bootcamp/blob/main/estruturas_de_repeti%C3%A7%C3%A3o.ipynb\" target=\"_parent\"><img src=\"https://colab.research.google.com/assets/colab-badge.svg\" alt=\"Open In Colab\"/></a>"
      ]
    },
    {
      "cell_type": "markdown",
      "source": [
        "Faça um programa que peça uma nota, entre zero e dez. \n",
        "Mostre uma mensagem caso o valor seja inválido e continue pedindo até que o usuário informe um valor válido."
      ],
      "metadata": {
        "id": "BHT7y2AAkN-f"
      }
    },
    {
      "cell_type": "code",
      "source": [
        "x = float(input('Insira uma nota de 0 à 10: '))\n",
        "while x<0 or x>10:\n",
        "  x=float(input('Insira uma nota de 0 à 10: '))\n",
        "print('Nota válida!')"
      ],
      "metadata": {
        "colab": {
          "base_uri": "https://localhost:8080/"
        },
        "id": "BKdCwBTWq-_D",
        "outputId": "c349420c-a7f5-43be-8c7d-2899795b3edc"
      },
      "execution_count": null,
      "outputs": [
        {
          "output_type": "stream",
          "name": "stdout",
          "text": [
            "Insira uma nota de 0 à 10: 89\n",
            "Insira uma nota de 0 à 10: 74\n",
            "Insira uma nota de 0 à 10: 14\n",
            "Insira uma nota de 0 à 10: -1\n",
            "Insira uma nota de 0 à 10: 5\n",
            "Nota válida!\n"
          ]
        }
      ]
    },
    {
      "cell_type": "markdown",
      "source": [
        "Faça um programa que leia um nome de usuário e a sua senha e não aceite a senha igual ao nome do usuário, mostrando uma mensagem de erro e voltando a pedir as informações."
      ],
      "metadata": {
        "id": "dCJcZKVGsAz-"
      }
    },
    {
      "cell_type": "code",
      "source": [
        "user = input('Insira aqui seu usuário: ')\n",
        "user_pass = input('Insira sua pass aqui: ')\n",
        "while user_pass == user:\n",
        "  user_pass = input('Pass incorreta! Insira sua pass aqui: ')\n",
        "print('Pass ok!')"
      ],
      "metadata": {
        "id": "7wM8rMXDsCQ2"
      },
      "execution_count": null,
      "outputs": []
    },
    {
      "cell_type": "markdown",
      "source": [
        "Faça um programa que leia e valide as seguintes informações:\n",
        "\n",
        "Nome: maior que 3 caracteres;\n",
        "\n",
        "Idade: entre 0 e 150;\n",
        "\n",
        "Salário: maior que zero;\n",
        "\n",
        "Sexo: 'f' ou 'm';\n",
        "\n",
        "Estado Civil: 's', 'c', 'v', 'd';\n",
        "\n"
      ],
      "metadata": {
        "id": "L5AGRVUPuIKP"
      }
    },
    {
      "cell_type": "code",
      "source": [
        "nome= input(\"Digite seu nome: \")\n",
        "while len(nome) <= 2:\n",
        "    print(\"O nome precisa ter mais de 3 caracteres.\")\n",
        "    nome = input(\"Digite outro nome: \")\n",
        "print('Nome ok!')\n",
        "idade = int(input('Digite sua idade :'))\n",
        "while idade<=0 or idade>=150:\n",
        "  print('A idade precisa estar entre 0 e 150 anos.')\n",
        "  idade = int(input('Digite novamente sua idade: '))\n",
        "print('Idade ok!')\n",
        "sal = int(input('Digite seu salário: '))\n",
        "while sal<=0:\n",
        "  print('O valor deve ser maior que zero.')\n",
        "  sal=int(input('Digite novamente o seu salário: '))\n",
        "print('Salario ok!')\n",
        "sexo = input('Insira aqui seu sexo: ')\n",
        "while sexo!='M'and sexo!='F':\n",
        "  print('Insira M or F.')\n",
        "  sexo = input('Insira aqui seu sexo :')\n",
        "print('Sexo ok!')\n",
        "c = input('Digite seu estado civil: ')\n",
        "while c!='solteire' and c!='divorciade' and c!='casade' and c!='viuve':\n",
        "  print('Seu estado deve ser solteire,casade, viuve ou divorciade.')\n",
        "  c = input('Insira aqui S,D,C ou V: ')\n",
        "print('Estado civil ok!')\n",
        "\n",
        "print('A',nome,'tem',idade,'anos.Ela está reebendo',sal,'reais. E é do sexo',sexo,'e também é',c,'.')\n",
        "\n",
        "\n"
      ],
      "metadata": {
        "colab": {
          "base_uri": "https://localhost:8080/"
        },
        "id": "8Xtvk7PPumY3",
        "outputId": "bf7405dc-3f68-4a26-fcc7-a2dd615b004b"
      },
      "execution_count": null,
      "outputs": [
        {
          "output_type": "stream",
          "name": "stdout",
          "text": [
            "Digite seu nome: carla\n",
            "Nome ok!\n",
            "Digite sua idade :38\n",
            "Idade ok!\n",
            "Digite seu salário: 4200\n",
            "Salario ok!\n",
            "Insira aqui seu sexo: F\n",
            "Sexo ok!\n",
            "Digite seu estado civil: solteire\n",
            "Estado civil ok!\n",
            "A carla tem 38 anos.Ela está reebendo 4200 reais. E é do sexo F e também é solteire .\n"
          ]
        }
      ]
    },
    {
      "cell_type": "markdown",
      "source": [
        "Supondo que a população de um país A seja da ordem de 80000 habitantes com uma taxa anual de crescimento de 3% e que a população de B seja 200000 habitantes com uma taxa de crescimento de 1.5%.\n",
        "\n",
        "Faça um programa que calcule e escreva o número de anos necessários para que a população do país A ultrapasse ou iguale a população do país B, mantidas as taxas de crescimento."
      ],
      "metadata": {
        "id": "fDi4_CgJ31sH"
      }
    },
    {
      "cell_type": "code",
      "source": [
        "a = 80000 \n",
        "a1= 0.03\n",
        "b = 200000\n",
        "b1 = 0.0015\n",
        "anos = 0\n",
        "while a < b:\n",
        "  a *=(1 + a1)\n",
        "  b *=(1 + b1)\n",
        "  anos+= 1\n",
        "print('Serão necessários',anos,'anos para que A ultrapasse B.')\n"
      ],
      "metadata": {
        "colab": {
          "base_uri": "https://localhost:8080/"
        },
        "id": "GPXBZShi32J9",
        "outputId": "2b32b98c-86fd-4d39-fc4f-9cdcb5a3ef53"
      },
      "execution_count": null,
      "outputs": [
        {
          "output_type": "stream",
          "name": "stdout",
          "text": [
            "Serão necessários 33 anos para que A ultrapasse B.\n"
          ]
        }
      ]
    },
    {
      "cell_type": "markdown",
      "source": [
        "Altere o programa anterior permitindo ao usuário informar as populações e as taxas de crescimento iniciais. Valide a entrada e permita repetir a operação."
      ],
      "metadata": {
        "id": "BK8bEtGx6hpt"
      }
    },
    {
      "cell_type": "code",
      "source": [
        "a = float(input('Digite a população da cidade A: '))\n",
        "a1= float(input('Digite a taxa de crescimento de A: '))\n",
        "b = float(input('Digite a população da cidade B: '))\n",
        "b1 = float(input('Digite a taxa de crescimento de B: '))\n",
        "anos = 0\n",
        "while a < b:\n",
        "  a *=(1 + a1)\n",
        "  b *=(1 + b1)\n",
        "  anos+= 1\n",
        "print('Serão necessários',anos,'anos para que A ultrapasse B.')"
      ],
      "metadata": {
        "colab": {
          "base_uri": "https://localhost:8080/"
        },
        "id": "MfZZa0sa6p_l",
        "outputId": "d2876166-ff5b-4d0c-e2ca-a3a7ddcdac71"
      },
      "execution_count": null,
      "outputs": [
        {
          "output_type": "stream",
          "name": "stdout",
          "text": [
            "Digite a população da cidade A: 85789\n",
            "Digite a taxa de crescimento de A: 1.56\n",
            "Digite a população da cidade B: 874569\n",
            "Digite a taxa de crescimento de B: 8.6\n",
            "Serão necessários 743 anos para que A ultrapasse B.\n"
          ]
        }
      ]
    },
    {
      "cell_type": "markdown",
      "source": [
        "Faça um programa que leia 5 números e informe a soma e a média dos números.\n",
        "Faça um programa que imprima na tela apenas os números ímpares entre 1 e 50.\n",
        "Faça um programa que receba dois números inteiros e gere os números inteiros que estão no intervalo compreendido por eles.\n",
        "Altere o programa anterior para mostrar no final a soma dos números."
      ],
      "metadata": {
        "id": "Mk2Fl8aG7XRr"
      }
    },
    {
      "cell_type": "markdown",
      "source": [
        "Faça um programa que imprima na tela os números de 1 a 20, um abaixo do outro."
      ],
      "metadata": {
        "id": "PJoIXI8z7Zh9"
      }
    },
    {
      "cell_type": "code",
      "source": [
        "for i in range(1,21):\n",
        "  print(i)"
      ],
      "metadata": {
        "colab": {
          "base_uri": "https://localhost:8080/"
        },
        "id": "jY1pPr7M7aSL",
        "outputId": "e06d07e6-6783-4a21-ad40-44d7ab04484f"
      },
      "execution_count": null,
      "outputs": [
        {
          "output_type": "stream",
          "name": "stdout",
          "text": [
            "1\n",
            "2\n",
            "3\n",
            "4\n",
            "5\n",
            "6\n",
            "7\n",
            "8\n",
            "9\n",
            "10\n",
            "11\n",
            "12\n",
            "13\n",
            "14\n",
            "15\n",
            "16\n",
            "17\n",
            "18\n",
            "19\n",
            "20\n"
          ]
        }
      ]
    },
    {
      "cell_type": "markdown",
      "source": [
        "Depois modifique o programa para que ele mostre os números um ao lado do outro.\n"
      ],
      "metadata": {
        "id": "FcgZrweS79Os"
      }
    },
    {
      "cell_type": "code",
      "source": [
        "for i in range(1,21):\n",
        "  print(i, end=' ')"
      ],
      "metadata": {
        "colab": {
          "base_uri": "https://localhost:8080/"
        },
        "id": "J4SiVOTC8MfE",
        "outputId": "46c80d6a-5fc8-45e7-c8c7-5637adf2013a"
      },
      "execution_count": null,
      "outputs": [
        {
          "output_type": "stream",
          "name": "stdout",
          "text": [
            "1 2 3 4 5 6 7 8 9 10 11 12 13 14 15 16 17 18 19 20 "
          ]
        }
      ]
    },
    {
      "cell_type": "markdown",
      "source": [
        "Faça um programa que leia 5 números e informe o maior número. "
      ],
      "metadata": {
        "id": "1NMfUprH8VlW"
      }
    },
    {
      "cell_type": "code",
      "source": [
        "maior = None\n",
        "\n",
        "for i in range(5):\n",
        "    numero = int(input(\"Digite um número: \"))\n",
        "    if maior is None or numero > maior:\n",
        "        maior = numero\n",
        "\n",
        "print(f\"O maior número é: {maior}\")"
      ],
      "metadata": {
        "colab": {
          "base_uri": "https://localhost:8080/"
        },
        "id": "g_zrNitv8XSY",
        "outputId": "d59e08bb-9db7-46c0-933a-8913dafe7051"
      },
      "execution_count": null,
      "outputs": [
        {
          "output_type": "stream",
          "name": "stdout",
          "text": [
            "Digite um número: 5\n",
            "Digite um número: 6\n",
            "Digite um número: 4\n",
            "Digite um número: 4\n",
            "Digite um número: 8\n",
            "O maior número é: 8\n"
          ]
        }
      ]
    },
    {
      "cell_type": "markdown",
      "source": [
        " Faça um programa que imprima na tela apenas os números ímpares entre 1 e 50"
      ],
      "metadata": {
        "id": "ABdbllIfAdBS"
      }
    },
    {
      "cell_type": "code",
      "source": [
        "for i in range(1,51,2):\n",
        "   print(i, end=' ')"
      ],
      "metadata": {
        "colab": {
          "base_uri": "https://localhost:8080/"
        },
        "id": "VHoQjj_rAeAa",
        "outputId": "dee70c26-073b-4500-b44d-9109b3ac3cc7"
      },
      "execution_count": null,
      "outputs": [
        {
          "output_type": "stream",
          "name": "stdout",
          "text": [
            "1 3 5 7 9 11 13 15 17 19 21 23 25 27 29 31 33 35 37 39 41 43 45 47 49 "
          ]
        }
      ]
    },
    {
      "cell_type": "markdown",
      "source": [
        "Faça um programa que receba dois números inteiros e gere os números inteiros que estão no intervalo compreendido por eles."
      ],
      "metadata": {
        "id": "hWNNvQDPBvlC"
      }
    },
    {
      "cell_type": "code",
      "source": [
        "x = int(input('Insira aqui um numero :'))\n",
        "y = int(input('Insira aqui um numero :'))\n",
        "\n",
        "for i in range(x,y):\n",
        "  print(i, end=' ')"
      ],
      "metadata": {
        "colab": {
          "base_uri": "https://localhost:8080/"
        },
        "id": "jEAkOEMECO7U",
        "outputId": "b6dbc658-8c4c-44c9-ccd2-9c935e4c2c88"
      },
      "execution_count": null,
      "outputs": [
        {
          "output_type": "stream",
          "name": "stdout",
          "text": [
            "Insira aqui um numero :1\n",
            "Insira aqui um numero :10\n",
            "1 2 3 4 5 6 7 8 9 "
          ]
        }
      ]
    },
    {
      "cell_type": "markdown",
      "source": [
        "Desenvolva um gerador de tabuada, capaz de gerar a tabuada de qualquer número inteiro entre 1 a 10. O usuário deve informar de qual numero ele deseja ver a tabuada."
      ],
      "metadata": {
        "id": "0mj-QlfbEi6Z"
      }
    },
    {
      "cell_type": "code",
      "source": [
        "numero = int(input('Insira aqui um numero :'))\n",
        "\n",
        "for i in range(1,11):\n",
        "  print(numero,'x',i,'=',numero*i)"
      ],
      "metadata": {
        "colab": {
          "base_uri": "https://localhost:8080/"
        },
        "id": "XLDYQH1OErLS",
        "outputId": "2fb02965-f559-4e35-d730-bb5b63d6c28a"
      },
      "execution_count": null,
      "outputs": [
        {
          "output_type": "stream",
          "name": "stdout",
          "text": [
            "Insira aqui um numero :7\n",
            "7 x 1 = 7\n",
            "7 x 2 = 14\n",
            "7 x 3 = 21\n",
            "7 x 4 = 28\n",
            "7 x 5 = 35\n",
            "7 x 6 = 42\n",
            "7 x 7 = 49\n",
            "7 x 8 = 56\n",
            "7 x 9 = 63\n",
            "7 x 10 = 70\n"
          ]
        }
      ]
    },
    {
      "cell_type": "markdown",
      "source": [
        "Faça um programa que peça dois números, base e expoente, calcule e mostre o primeiro número elevado ao segundo número. "
      ],
      "metadata": {
        "id": "7lQuzmWWG3dJ"
      }
    },
    {
      "cell_type": "code",
      "source": [
        "base = int(input('Insira aqui um numero :'))\n",
        "expoente = int(input('Insira aqui um numero :'))\n",
        "x= base\n",
        "for i in range(1, expoente):\n",
        "  x*=base\n",
        "print(base,'elevada à',expoente,'ª potência é igual a',x,'.')\n"
      ],
      "metadata": {
        "colab": {
          "base_uri": "https://localhost:8080/"
        },
        "id": "JmTTm_KAG5CO",
        "outputId": "747188ff-9ef5-47dd-b2ee-ca892f0270a0"
      },
      "execution_count": null,
      "outputs": [
        {
          "output_type": "stream",
          "name": "stdout",
          "text": [
            "Insira aqui um numero :3\n",
            "Insira aqui um numero :2\n",
            "3 elevada à 2 ª potência é igual a 9 .\n"
          ]
        }
      ]
    },
    {
      "cell_type": "markdown",
      "source": [
        "Faça um programa que peça 10 números inteiros, calcule e mostre a quantidade de números pares e a quantidade de números impares."
      ],
      "metadata": {
        "id": "a64Sn_ArI4Gp"
      }
    },
    {
      "cell_type": "code",
      "source": [
        "par = 0\n",
        "impar=0\n",
        "\n",
        "for i in range(10):\n",
        "    x= int(input(\"Digite um número: \"))\n",
        "    if x %2 ==0:\n",
        "      par+=1\n",
        "    else:\n",
        "      impar+=1\n",
        "print('Os numeros pares são:',par)\n",
        "print('Os numeros impares são:',impar)"
      ],
      "metadata": {
        "colab": {
          "base_uri": "https://localhost:8080/"
        },
        "id": "vR_8xOlWI7Qg",
        "outputId": "a70cdca4-badf-46a6-ae9d-8c2447331a34"
      },
      "execution_count": null,
      "outputs": [
        {
          "output_type": "stream",
          "name": "stdout",
          "text": [
            "Digite um número: 1\n",
            "Digite um número: 2\n",
            "Digite um número: 3\n",
            "Digite um número: 4\n",
            "Digite um número: 5\n",
            "Digite um número: 6\n",
            "Digite um número: 7\n",
            "Digite um número: 8\n",
            "Digite um número: 9\n",
            "Digite um número: 10\n",
            "Os numeros pares são: 5\n",
            "Os numeros impares são: 5\n"
          ]
        }
      ]
    },
    {
      "cell_type": "markdown",
      "source": [
        "A série de Fibonacci é formada pela seqüência 1,1,2,3,5,8,13,21,34,55,... Faça um programa capaz de gerar a série até o n−ésimo termo.\n"
      ],
      "metadata": {
        "id": "ZN5p2nsEKriu"
      }
    },
    {
      "cell_type": "code",
      "source": [
        "n = int(input(\"Digite a quantidade de termos da série de Fibonacci que deseja gerar: \"))\n",
        "t1=1\n",
        "t2=1\n",
        "print(t1)\n",
        "print(t2)\n",
        "for i in range(3,n+1):\n",
        "    pt = t1+t2\n",
        "    t1 = t2\n",
        "    t2 = pt\n",
        "    print(pt)"
      ],
      "metadata": {
        "colab": {
          "base_uri": "https://localhost:8080/"
        },
        "id": "8IlkRXfEK5vg",
        "outputId": "168be396-88d3-40ac-c6a1-99d419d12ad5"
      },
      "execution_count": null,
      "outputs": [
        {
          "output_type": "stream",
          "name": "stdout",
          "text": [
            "Digite a quantidade de termos da série de Fibonacci que deseja gerar: 3\n",
            "1\n",
            "1\n",
            "2\n"
          ]
        }
      ]
    },
    {
      "cell_type": "markdown",
      "source": [
        "A série de Fibonacci é formada pela seqüência 0,1,1,2,3,5,8,13,21,34,55,... Faça um programa que gere a série até que o valor seja maior que 500."
      ],
      "metadata": {
        "id": "VKeHkGJgMXMC"
      }
    },
    {
      "cell_type": "code",
      "source": [
        "t1=0\n",
        "t2=1\n",
        "print(t1)\n",
        "while t2 <=500:\n",
        "  print(t2)\n",
        "  pt = t1 +t2\n",
        "  t1 = t2\n",
        "  t2 = pt"
      ],
      "metadata": {
        "colab": {
          "base_uri": "https://localhost:8080/"
        },
        "id": "eatBOfBaMRes",
        "outputId": "5806915b-cddb-409c-be4e-2234a23e9a13"
      },
      "execution_count": null,
      "outputs": [
        {
          "output_type": "stream",
          "name": "stdout",
          "text": [
            "0\n",
            "1\n",
            "1\n",
            "2\n",
            "3\n",
            "5\n",
            "8\n",
            "13\n",
            "21\n",
            "34\n",
            "55\n",
            "89\n",
            "144\n",
            "233\n",
            "377\n"
          ]
        }
      ]
    },
    {
      "cell_type": "markdown",
      "source": [
        "Faça um programa que peça um número inteiro e determine se ele é ou não um número primo. \n",
        "\n",
        "Um número primo é aquele que é divisível somente por ele mesmo e por 1."
      ],
      "metadata": {
        "id": "dZxVKlzZRpv5"
      }
    },
    {
      "cell_type": "code",
      "source": [
        "x= int(input(\"Digite um número: \"))\n",
        "primo = True\n",
        "for i in range(2,x):\n",
        "  if x % i == 0:\n",
        "    primo = False\n",
        "    break\n",
        "if primo:\n",
        "  print(x,'é um numero primo')\n",
        "else:\n",
        "  print(x,'não é um numero primo')"
      ],
      "metadata": {
        "colab": {
          "base_uri": "https://localhost:8080/"
        },
        "id": "OGMGXKsNSD-H",
        "outputId": "d3521cc5-6aed-4854-b2b4-62ae4969bfec"
      },
      "execution_count": null,
      "outputs": [
        {
          "output_type": "stream",
          "name": "stdout",
          "text": [
            "Digite um número: 657\n",
            "657 não é um numero primo\n"
          ]
        }
      ]
    },
    {
      "cell_type": "markdown",
      "source": [
        "Altere o programa de cálculo dos números primos, informando, caso o número não seja primo, por quais número ele é divisível."
      ],
      "metadata": {
        "id": "CL9tlC5PT0D_"
      }
    },
    {
      "cell_type": "code",
      "source": [
        "x = int(input(\"Digite um número inteiro positivo: \"))\n",
        "if x < 2:\n",
        "    print(\"O número deve ser maior ou igual a 2.\")\n",
        "else:\n",
        "    primo = True\n",
        "    for divisor in range(2, x):\n",
        "        if x % divisor == 0:\n",
        "            primo = False\n",
        "            print(x,'não é primo. É divisível por',divisor,'.')\n",
        "            break\n",
        "    if primo:\n",
        "        print(x,'é primo.')"
      ],
      "metadata": {
        "colab": {
          "base_uri": "https://localhost:8080/"
        },
        "id": "bImH8VnxTzQQ",
        "outputId": "3ae4bc5e-b024-4093-9776-9c0d6c0c00a2"
      },
      "execution_count": null,
      "outputs": [
        {
          "output_type": "stream",
          "name": "stdout",
          "text": [
            "Digite um número inteiro positivo: 97\n",
            "97 é primo.\n"
          ]
        }
      ]
    }
  ]
}