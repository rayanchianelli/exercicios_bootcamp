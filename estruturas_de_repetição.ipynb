{
  "nbformat": 4,
  "nbformat_minor": 0,
  "metadata": {
    "colab": {
      "provenance": [],
      "authorship_tag": "ABX9TyPk6jwsfV0QYXP7GpvQKTLH",
      "include_colab_link": true
    },
    "kernelspec": {
      "name": "python3",
      "display_name": "Python 3"
    },
    "language_info": {
      "name": "python"
    }
  },
  "cells": [
    {
      "cell_type": "markdown",
      "metadata": {
        "id": "view-in-github",
        "colab_type": "text"
      },
      "source": [
        "<a href=\"https://colab.research.google.com/github/rayannoyma/exercicios_bootcamp/blob/main/estruturas_de_repeti%C3%A7%C3%A3o.ipynb\" target=\"_parent\"><img src=\"https://colab.research.google.com/assets/colab-badge.svg\" alt=\"Open In Colab\"/></a>"
      ]
    },
    {
      "cell_type": "markdown",
      "source": [
        "\n",
        "\n",
        "\n",
        "\n",
        "Faça um programa que leia e valide as seguintes informações:\n",
        "\n",
        "Nome: maior que 3 caracteres;\n",
        "\n",
        "Idade: entre 0 e 150;\n",
        "\n",
        "Salário: maior que zero;\n",
        "\n",
        "Sexo: 'f' ou 'm';\n",
        "\n",
        "Estado Civil: 's', 'c', 'v', 'd';\n",
        "\n",
        "Supondo que a população de um país A seja da ordem de 80000 habitantes com uma taxa anual de crescimento de 3% e que a população de B seja 200000 habitantes com uma taxa de crescimento de 1.5%. \n",
        "\n",
        "Faça um programa que calcule e escreva o número de anos necessários para que a população do país A ultrapasse ou iguale a população do país B, mantidas as taxas de crescimento."
      ],
      "metadata": {
        "id": "KeC2Ek2Bi8W1"
      }
    },
    {
      "cell_type": "markdown",
      "source": [
        "Faça um programa que peça uma nota, entre zero e dez. \n",
        "Mostre uma mensagem caso o valor seja inválido e continue pedindo até que o usuário informe um valor válido."
      ],
      "metadata": {
        "id": "BHT7y2AAkN-f"
      }
    },
    {
      "cell_type": "code",
      "source": [
        "x = float(input('Insira uma nota de 0 à 10: '))\n",
        "while x<0 or x>10:\n",
        "  x=float(input('Insira uma nota de 0 à 10: '))\n",
        "print('Nota válida!')"
      ],
      "metadata": {
        "colab": {
          "base_uri": "https://localhost:8080/"
        },
        "id": "BKdCwBTWq-_D",
        "outputId": "c349420c-a7f5-43be-8c7d-2899795b3edc"
      },
      "execution_count": 20,
      "outputs": [
        {
          "output_type": "stream",
          "name": "stdout",
          "text": [
            "Insira uma nota de 0 à 10: 89\n",
            "Insira uma nota de 0 à 10: 74\n",
            "Insira uma nota de 0 à 10: 14\n",
            "Insira uma nota de 0 à 10: -1\n",
            "Insira uma nota de 0 à 10: 5\n",
            "Nota válida!\n"
          ]
        }
      ]
    },
    {
      "cell_type": "markdown",
      "source": [
        "Faça um programa que leia um nome de usuário e a sua senha e não aceite a senha igual ao nome do usuário, mostrando uma mensagem de erro e voltando a pedir as informações."
      ],
      "metadata": {
        "id": "dCJcZKVGsAz-"
      }
    },
    {
      "cell_type": "code",
      "source": [
        "user = input('Insira aqui seu usuário: ')\n",
        "user_pass = input('Insira sua pass aqui: ')\n",
        "while user_pass == user:\n",
        "  user_pass = input('Pass incorreta! Insira sua pass aqui: ')\n",
        "print('Pass ok!')"
      ],
      "metadata": {
        "colab": {
          "base_uri": "https://localhost:8080/"
        },
        "id": "7wM8rMXDsCQ2",
        "outputId": "2b06dc9f-5145-413f-ec25-17885a3c849a"
      },
      "execution_count": 27,
      "outputs": [
        {
          "output_type": "stream",
          "name": "stdout",
          "text": [
            "Insira aqui seu usuário: abreu\n",
            "Insira sua pass aqui: abreu\n",
            "Pass incorreta! Insira sua pass aqui: ola\n",
            "Pass ok!\n"
          ]
        }
      ]
    },
    {
      "cell_type": "markdown",
      "source": [
        "Faça um programa que leia e valide as seguintes informações:\n",
        "\n",
        "Nome: maior que 3 caracteres;\n",
        "\n",
        "Idade: entre 0 e 150;\n",
        "\n",
        "Salário: maior que zero;\n",
        "\n",
        "Sexo: 'f' ou 'm';\n",
        "\n",
        "Estado Civil: 's', 'c', 'v', 'd';\n",
        "\n",
        "Supondo que a população de um país A seja da ordem de 80000 habitantes com uma taxa anual de crescimento de 3% e que a população de B seja 200000 habitantes com uma taxa de crescimento de 1.5%."
      ],
      "metadata": {
        "id": "L5AGRVUPuIKP"
      }
    },
    {
      "cell_type": "code",
      "source": [
        "nome "
      ],
      "metadata": {
        "id": "rh9nwXKduKSv"
      },
      "execution_count": null,
      "outputs": []
    }
  ]
}