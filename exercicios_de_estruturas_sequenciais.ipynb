{
  "cells": [
    {
      "cell_type": "markdown",
      "metadata": {
        "id": "view-in-github",
        "colab_type": "text"
      },
      "source": [
        "<a href=\"https://colab.research.google.com/github/rayannoyma/exercicios_bootcamp/blob/main/exercicios_de_estruturas_sequenciais.ipynb\" target=\"_parent\"><img src=\"https://colab.research.google.com/assets/colab-badge.svg\" alt=\"Open In Colab\"/></a>"
      ]
    },
    {
      "cell_type": "code",
      "execution_count": null,
      "id": "d253d080",
      "metadata": {
        "id": "d253d080",
        "outputId": "228272f3-edd5-4a40-8099-f97dfc777323"
      },
      "outputs": [
        {
          "name": "stdout",
          "output_type": "stream",
          "text": [
            "Alo Mundo\n"
          ]
        }
      ],
      "source": [
        "#Faça um Programa que mostre a mensagem \"Alo mundo\" na tela.\n",
        "print('Alo Mundo')"
      ]
    },
    {
      "cell_type": "code",
      "execution_count": null,
      "id": "70472f8b",
      "metadata": {
        "id": "70472f8b",
        "outputId": "3791c17e-9d37-4daf-c154-edecddaaa678"
      },
      "outputs": [
        {
          "name": "stdout",
          "output_type": "stream",
          "text": [
            "Digite um numero34\n",
            "O numero informado foi  34\n"
          ]
        }
      ],
      "source": [
        "resultado = input('Digite um numero')\n",
        "print('O numero informado foi ', resultado) "
      ]
    },
    {
      "cell_type": "code",
      "execution_count": null,
      "id": "82267cf3",
      "metadata": {
        "id": "82267cf3",
        "outputId": "47c31bde-8f74-470d-dce1-63620c491a5d"
      },
      "outputs": [
        {
          "name": "stdout",
          "output_type": "stream",
          "text": [
            "digite um numero 34\n",
            "digite outro numero 45\n",
            "A soma é  79\n"
          ]
        }
      ],
      "source": [
        "#Faça um Programa que peça dois números e imprima a soma.\n",
        "\n",
        "resultado1 = int(input('digite um numero '))\n",
        "resultado2 = int(input('digite outro numero '))\n",
        "print('A soma é ' , resultado1 + resultado2)"
      ]
    },
    {
      "cell_type": "code",
      "execution_count": null,
      "id": "c70edec1",
      "metadata": {
        "id": "c70edec1",
        "outputId": "6228e81b-ccab-4cc9-ec73-283c1aca8f0e"
      },
      "outputs": [
        {
          "name": "stdout",
          "output_type": "stream",
          "text": [
            "Nota Bimestre 1 34\n",
            "Nota Bimestre 2 56\n",
            "Nota Bimestre 3 56\n",
            "Nota Bimestre 4 56\n",
            "A média é  50.5\n"
          ]
        }
      ],
      "source": [
        "#Faça um Programa que peça as 4 notas bimestrais e mostre a média.\n",
        "resultado1 = int(input('Nota Bimestre 1 '))\n",
        "resultado2 = int(input('Nota Bimestre 2 '))\n",
        "resultado3 = int(input('Nota Bimestre 3 '))\n",
        "resultado4 = int(input('Nota Bimestre 4 '))\n",
        "print('A média é ', (resultado1 + resultado2 + resultado3 +resultado4)/4)"
      ]
    },
    {
      "cell_type": "code",
      "execution_count": null,
      "id": "8a03a1b0",
      "metadata": {
        "id": "8a03a1b0",
        "outputId": "3c88221b-62fb-48cc-e889-39391594851f"
      },
      "outputs": [
        {
          "name": "stdout",
          "output_type": "stream",
          "text": [
            "Insira aqui uma medida em metros: 45\n",
            "Essa medida corresmponde em centimetros à  4500\n"
          ]
        }
      ],
      "source": [
        "#Faça um Programa que converta metros para centímetros.\n",
        "resultado1 = int(input('Insira aqui uma medida em metros: '))\n",
        "resultado2 = resultado1 * 100\n",
        "print('Essa medida corresmponde em centimetros à ', resultado2 )"
      ]
    },
    {
      "cell_type": "code",
      "execution_count": null,
      "id": "c5f0151f",
      "metadata": {
        "id": "c5f0151f",
        "outputId": "bf39f14c-2ba6-49c8-fe87-e0cdcf2b68b4"
      },
      "outputs": [
        {
          "name": "stdout",
          "output_type": "stream",
          "text": [
            "Insira aqui o raio do circulo: 56\n",
            "A area do circulo é  9847.04\n"
          ]
        }
      ],
      "source": [
        "#Faça um Programa que peça o raio de um círculo, calcule e mostre sua área.\n",
        "resultado1 = int(input('Insira aqui o raio do circulo: '))\n",
        "resultado2 = 3.14*(resultado1**2)\n",
        "print('A area do circulo é ', resultado2)"
      ]
    },
    {
      "cell_type": "code",
      "execution_count": null,
      "id": "ad46f681",
      "metadata": {
        "id": "ad46f681",
        "outputId": "96cf8ea2-4464-4c2b-f54b-fd9cd2e42e93"
      },
      "outputs": [
        {
          "name": "stdout",
          "output_type": "stream",
          "text": [
            "Insira aqui a medida do lado do quadrado56\n",
            "A area do quadrado dobrado é  6272\n"
          ]
        }
      ],
      "source": [
        "#Faça um Programa que calcule a área de um quadrado, em seguida mostre o dobro desta área para o usuário.\n",
        "resultado1 = int(input('Insira aqui a medida do lado do quadrado'))\n",
        "resultado2 = (resultado1**2)*2\n",
        "print('A area do quadrado dobrado é ', resultado2)"
      ]
    },
    {
      "cell_type": "code",
      "execution_count": null,
      "id": "dee5f92e",
      "metadata": {
        "id": "dee5f92e",
        "outputId": "02769efd-23f6-41a6-ec6a-761529c7cb6b"
      },
      "outputs": [
        {
          "name": "stdout",
          "output_type": "stream",
          "text": [
            "Insira aquio valor recebido por hora 56\n",
            "Insira aqui qnts horas trabalhas 200\n",
            "O valor que tens pra receber é R$ 11200\n"
          ]
        }
      ],
      "source": [
        "#Faça um Programa que pergunte quanto você ganha por hora e o número de horas trabalhadas no mês. \n",
        "#Calcule e mostre o total do seu salário no referido mês.\n",
        "resultado1 = int(input('Insira aquio valor recebido por hora '))\n",
        "resultado2 = int(input('Insira aqui qnts horas trabalhas '))\n",
        "resultado3 = int(resultado1 * resultado2)\n",
        "print('O valor que tens pra receber é R$',resultado3)"
      ]
    },
    {
      "cell_type": "code",
      "execution_count": null,
      "id": "99de8b5c",
      "metadata": {
        "id": "99de8b5c",
        "outputId": "ce0e795b-d684-4684-9bd4-b428cad4f09c"
      },
      "outputs": [
        {
          "name": "stdout",
          "output_type": "stream",
          "text": [
            "Insira a temperatura em Fahrenheit:124\n",
            "A temperatura em Celsius é 51.11111111111111\n"
          ]
        }
      ],
      "source": [
        "#Faça um Programa que peça a temperatura em graus Fahrenheit, transforme e mostre a temperatura em graus Celsius.\n",
        "#C = 5 * ((F-32) / 9).\n",
        "resultado1 = int(input('Insira a temperatura em Fahrenheit:'))\n",
        "resultado2 = 5*((resultado1-32)/9)\n",
        "print('A temperatura em Celsius é',resultado2)"
      ]
    },
    {
      "cell_type": "code",
      "execution_count": null,
      "id": "acb21fa0",
      "metadata": {
        "id": "acb21fa0",
        "outputId": "ca616f34-2d9a-405e-ac7d-e279696f5818"
      },
      "outputs": [
        {
          "name": "stdout",
          "output_type": "stream",
          "text": [
            "Insira a temperatura em Celsius:38\n",
            "A temperatura em Celsius é 100.4\n"
          ]
        }
      ],
      "source": [
        "#Faça um Programa que peça a temperatura em graus Celsius, transforme e mostre em graus Fahrenheit.\n",
        "resultado1 = float(input('Insira a temperatura em Celsius:'))\n",
        "resultado2 = ((resultado1 * 1.8)+32)\n",
        "print('A temperatura em Celsius é',resultado2)"
      ]
    },
    {
      "cell_type": "markdown",
      "id": "25ebbf19",
      "metadata": {
        "id": "25ebbf19"
      },
      "source": [
        "Faça um Programa que peça 2 números inteiros e um número real. Calcule e mostre:\n",
        "o produto do dobro do primeiro com metade do segundo .\n",
        "a soma do triplo do primeiro com o terceiro.\n",
        "o terceiro elevado ao cubo."
      ]
    },
    {
      "cell_type": "code",
      "execution_count": null,
      "id": "1af31d7e",
      "metadata": {
        "id": "1af31d7e",
        "outputId": "bba06395-fd1e-4416-dbaa-37411e18601e"
      },
      "outputs": [
        {
          "name": "stdout",
          "output_type": "stream",
          "text": [
            "Escolha um numero 4\n",
            "Escolha um numero 5\n",
            "Escolha um numero 6\n",
            "o produto do dobro do primeiro com metade do segundo é 10.5\n",
            "a soma do triplo do primeiro com o terceiro é 18.0\n",
            "o terceiro elevado ao cubo é 216.0\n"
          ]
        }
      ],
      "source": [
        "x = int(input('Escolha um numero '))\n",
        "y = int(input('Escolha um numero '))\n",
        "z = float(input('Escolha um numero '))\n",
        "print('o produto do dobro do primeiro com metade do segundo é',(2*x)+(y/2))\n",
        "print('a soma do triplo do primeiro com o terceiro é', (3*x)+z)\n",
        "print('o terceiro elevado ao cubo é', z**3)"
      ]
    },
    {
      "cell_type": "markdown",
      "id": "492c2a52",
      "metadata": {
        "id": "492c2a52"
      },
      "source": [
        "Tendo como dados de entrada a altura de uma pessoa, construa um algoritmo que calcule seu peso ideal, usando a seguinte fórmula: (72.7*altura) - 58\n"
      ]
    },
    {
      "cell_type": "code",
      "execution_count": null,
      "id": "053cca7d",
      "metadata": {
        "id": "053cca7d",
        "outputId": "9f5bfe59-260d-41b4-d536-c1c4b4c4c1b8"
      },
      "outputs": [
        {
          "name": "stdout",
          "output_type": "stream",
          "text": [
            "Insira aqui sua altura1.82\n",
            "Seu peso ideal é  74.31400000000002\n"
          ]
        }
      ],
      "source": [
        "altura = float(input('Insira aqui sua altura'))\n",
        "print('Seu peso ideal é ', float((72.7*altura)-58))"
      ]
    },
    {
      "cell_type": "markdown",
      "id": "0996f47e",
      "metadata": {
        "id": "0996f47e"
      },
      "source": [
        "Tendo como dado de entrada a altura (h) de uma pessoa, construa um algoritmo que calcule seu peso ideal, utilizando as seguintes fórmulas:\n",
        "Para homens: (72.7*h) - 58\n",
        "Para mulheres: (62.1*h) - 44.7"
      ]
    },
    {
      "cell_type": "code",
      "execution_count": null,
      "id": "83a2570e",
      "metadata": {
        "id": "83a2570e",
        "outputId": "629ebdff-7bd3-4a95-9a81-552908df1c3f"
      },
      "outputs": [
        {
          "name": "stdout",
          "output_type": "stream",
          "text": [
            "Insira aqui sua altura 1.82\n",
            "Seu peso ideal para homem é 74.31400000000002\n",
            "Seu peso ideal para mulher é 68.322\n"
          ]
        }
      ],
      "source": [
        "altura = float(input('Insira aqui sua altura '))\n",
        "print('O peso ideal para homem é',float((72.7*altura)-58))\n",
        "print('O peso ideal para mulher é',float((62.1*altura)-44.7))"
      ]
    },
    {
      "cell_type": "markdown",
      "id": "ca005148",
      "metadata": {
        "id": "ca005148"
      },
      "source": [
        "João Papo-de-Pescador, homem de bem, comprou um microcomputador para controlar o rendimento diário de seu trabalho. Toda vez que ele traz um peso de peixes maior que o estabelecido pelo regulamento de pesca do estado de São Paulo (50 quilos) deve pagar uma multa de R$ 4,00 por quilo excedente. João precisa que você faça um programa que leia a variável peso (peso de peixes) e calcule o excesso. Gravar na variável excesso a quantidade de quilos além do limite e na variável multa o valor da multa que João deverá pagar. Imprima os dados do programa com as mensagens adequadas."
      ]
    },
    {
      "cell_type": "code",
      "execution_count": null,
      "id": "de3b329d",
      "metadata": {
        "id": "de3b329d",
        "outputId": "d6f11e62-db3f-4bac-c101-e961a5b7f18e"
      },
      "outputs": [
        {
          "name": "stdout",
          "output_type": "stream",
          "text": [
            "Insira aqui quantos quilos de peixe vc pescou:89\n",
            "Foram pescados em excesso 39.0 kgs.\n",
            "A multa a ser paga é 156.0 reais.\n"
          ]
        }
      ],
      "source": [
        "kg_peixes = float(input('Insira aqui quantos quilos de peixe vc pescou:'))\n",
        "excesso = kg_peixes - 50\n",
        "multa = excesso*4\n",
        "print('Foram pescados em excesso',excesso,'kgs.')\n",
        "print('A multa a ser paga é',multa,'reais.')"
      ]
    },
    {
      "cell_type": "markdown",
      "id": "55f4d33e",
      "metadata": {
        "id": "55f4d33e"
      },
      "source": [
        "Faça um Programa que pergunte quanto você ganha por hora e o número de horas trabalhadas no mês. Calcule e mostre o total do seu salário no referido mês, sabendo-se que são descontados 11% para o Imposto de Renda, 8% para o INSS e 5% para o sindicato, faça um programa que nos dê:\n",
        "salário bruto.\n",
        "quanto pagou ao INSS.\n",
        "quanto pagou ao sindicato.\n",
        "o salário líquido.\n",
        "calcule os descontos e o salário líquido, conforme a tabela abaixo:\n",
        "+ Salário Bruto : R$\n",
        "\n",
        "- IR (11%) : R$ \n",
        "\n",
        "- INSS (8%) : R$ \n",
        "\n",
        "- Sindicato ( 5%) : R$ \n",
        "\n",
        "= Salário Liquido : R$ \n",
        "\n",
        "Obs.: Salário Bruto - Descontos = Salário Líquido."
      ]
    },
    {
      "cell_type": "code",
      "execution_count": 5,
      "id": "6b249bf9",
      "metadata": {
        "colab": {
          "base_uri": "https://localhost:8080/"
        },
        "id": "6b249bf9",
        "outputId": "a00fb8fc-c248-4ad6-c680-5c42fdb13f46"
      },
      "outputs": [
        {
          "output_type": "stream",
          "name": "stdout",
          "text": [
            "Insira aqui o valor recebido por hora: 6.5\n",
            "Insira aqui quantas horas trabalhas: 200\n",
            "O salario bruto é R$ 1300\n",
            "O valor pago ao IR é R$ 143.0\n",
            "O valor pago ao INSS é R$ 104.0\n",
            "O valor pago ao Sindicato é R$ 65.0\n",
            "O salario liquido é R$ 988.0\n"
          ]
        }
      ],
      "source": [
        "valor_hora = float(input('Insira aqui o valor recebido por hora: '))\n",
        "horas = float(input('Insira aqui quantas horas trabalhas: '))\n",
        "salario_bruto = int(valor_hora * horas)\n",
        "ir = salario_bruto * 0.11\n",
        "inss = salario_bruto * 0.08\n",
        "sindicato = salario_bruto * 0.05\n",
        "salario_liquido = salario_bruto - ir - inss - sindicato\n",
        "print('O salario bruto é R$',salario_bruto)\n",
        "print('O valor pago ao IR é R$',ir)\n",
        "print('O valor pago ao INSS é R$',inss)\n",
        "print('O valor pago ao Sindicato é R$',sindicato)\n",
        "print('O salario liquido é R$',salario_liquido)"
      ]
    },
    {
      "cell_type": "markdown",
      "source": [
        "Faça um programa para uma loja de tintas. O programa deverá pedir o tamanho em metros quadrados da área a ser pintada.\n",
        "\n",
        "Considere que a cobertura da tinta é de 1 litro para cada 3 metros quadrados e que a tinta é vendida em latas de 18 litros, que custam R$ 80,00. \n",
        "\n",
        "Informe ao usuário a quantidades de latas de tinta a serem compradas e o preço total."
      ],
      "metadata": {
        "id": "bHHgTad9a7Mg"
      },
      "id": "bHHgTad9a7Mg"
    },
    {
      "cell_type": "code",
      "execution_count": 21,
      "id": "e2d2a3d0",
      "metadata": {
        "colab": {
          "base_uri": "https://localhost:8080/"
        },
        "id": "e2d2a3d0",
        "outputId": "80da4e86-2c91-4a4e-ca2d-1c7358816718"
      },
      "outputs": [
        {
          "output_type": "stream",
          "name": "stdout",
          "text": [
            "Insira aqui o valor em m2 da area a ser pintada:300\n",
            "A quantidade de latas necessarias é 6\n",
            "O valor a ser pago é R$ 480\n"
          ]
        }
      ],
      "source": [
        "area_pintura = float(input('Insira aqui o valor em m2 da area a ser pintada:'))\n",
        "quantidade_latas = round(float((area_pintura/3)/18))\n",
        "preço = quantidade_latas*80\n",
        "print('A quantidade de latas necessarias é',quantidade_latas)\n",
        "print('O valor a ser pago é R$',preço)"
      ]
    },
    {
      "cell_type": "markdown",
      "source": [
        "Faça um Programa para uma loja de tintas. O programa deverá pedir o tamanho em metros quadrados da área a ser pintada. Considere que a cobertura da tinta é de 1 litro para cada 6 metros quadrados e que a tinta é vendida em latas de 18 litros, que custam 80,00 reais ou em galões de 3,6 litros, que custam 25,00 reais.\n",
        "Informe ao usuário as quantidades de tinta a serem compradas e os respectivos preços em 2 situações:\n",
        "comprar apenas latas de 18 litros;\n",
        "comprar apenas galões de 3,6 litros."
      ],
      "metadata": {
        "id": "BVN0aJSyfMdw"
      },
      "id": "BVN0aJSyfMdw"
    },
    {
      "cell_type": "code",
      "execution_count": 9,
      "id": "4820febc",
      "metadata": {
        "colab": {
          "base_uri": "https://localhost:8080/"
        },
        "id": "4820febc",
        "outputId": "16092cb2-4b8c-4e72-e148-688359f1ffdc"
      },
      "outputs": [
        {
          "output_type": "stream",
          "name": "stdout",
          "text": [
            "Insira aqui o valor em m2 da area a ser pintada:400\n",
            "A quantidade de latas necessarias é 4\n",
            "O valor a ser pago é R$ 320\n",
            "A quantidade de galões necessarias é 19\n",
            "O valor a ser pago é R$ 475\n"
          ]
        }
      ],
      "source": [
        "area_pintura = float(input('Insira aqui o valor em m2 da area a ser pintada:'))\n",
        "quantidade_latas = round(float(area_pintura/(6*18)))\n",
        "valor_latas = int(quantidade_latas*80)\n",
        "quantidade_galoes = round(float(area_pintura/(6*3.6)))\n",
        "preco_galoes = quantidade_galoes*25\n",
        "print('A quantidade de latas necessarias é',quantidade_latas)\n",
        "print('O valor a ser pago é R$',valor_latas)\n",
        "print('A quantidade de galões necessarias é',quantidade_galoes)\n",
        "print('O valor a ser pago é R$',preco_galoes)\n"
      ]
    },
    {
      "cell_type": "markdown",
      "source": [
        "Faça um programa que peça o tamanho de um arquivo para download (em MB) e a velocidade de um link de Internet (em Mbps), calcule e informe o tempo aproximado de download do arquivo usando este link (em minutos)."
      ],
      "metadata": {
        "id": "cCG4sD-IkTyn"
      },
      "id": "cCG4sD-IkTyn"
    },
    {
      "cell_type": "code",
      "execution_count": 15,
      "id": "5f1680fd",
      "metadata": {
        "colab": {
          "base_uri": "https://localhost:8080/"
        },
        "id": "5f1680fd",
        "outputId": "d77fe375-ae11-447e-f87b-5784e4c9730c"
      },
      "outputs": [
        {
          "output_type": "stream",
          "name": "stdout",
          "text": [
            "Insira aqui o tamanho do arquivo desejado:536\n",
            "Insira aqui a velocidade da internet:15\n",
            "O tempo para o carregamento é 0 minutos.\n"
          ]
        }
      ],
      "source": [
        "arquivo = float(input('Insira aqui o tamanho do arquivo desejado:'))\n",
        "velocidade = float(input('Insira aqui a velocidade da internet:'))\n",
        "tempo_download = round(int((arquivo/velocidade)*0.016))\n",
        "print('O tempo para o carregamento é',tempo_download,'minutos.')"
      ]
    },
    {
      "cell_type": "code",
      "execution_count": null,
      "id": "7267bfc6",
      "metadata": {
        "id": "7267bfc6"
      },
      "outputs": [],
      "source": []
    }
  ],
  "metadata": {
    "celltoolbar": "Raw Cell Format",
    "kernelspec": {
      "display_name": "Python 3 (ipykernel)",
      "language": "python",
      "name": "python3"
    },
    "language_info": {
      "codemirror_mode": {
        "name": "ipython",
        "version": 3
      },
      "file_extension": ".py",
      "mimetype": "text/x-python",
      "name": "python",
      "nbconvert_exporter": "python",
      "pygments_lexer": "ipython3",
      "version": "3.10.9"
    },
    "colab": {
      "provenance": [],
      "include_colab_link": true
    }
  },
  "nbformat": 4,
  "nbformat_minor": 5
}