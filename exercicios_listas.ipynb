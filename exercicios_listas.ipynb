{
  "nbformat": 4,
  "nbformat_minor": 0,
  "metadata": {
    "colab": {
      "provenance": [],
      "authorship_tag": "ABX9TyP91NlLVyjtJE/bjbYLe9gp",
      "include_colab_link": true
    },
    "kernelspec": {
      "name": "python3",
      "display_name": "Python 3"
    },
    "language_info": {
      "name": "python"
    }
  },
  "cells": [
    {
      "cell_type": "markdown",
      "metadata": {
        "id": "view-in-github",
        "colab_type": "text"
      },
      "source": [
        "<a href=\"https://colab.research.google.com/github/rayannoyma/exercicios_bootcamp/blob/main/exercicios_listas.ipynb\" target=\"_parent\"><img src=\"https://colab.research.google.com/assets/colab-badge.svg\" alt=\"Open In Colab\"/></a>"
      ]
    },
    {
      "cell_type": "markdown",
      "source": [
        "Utilizando listas faça um programa que faça 5 perguntas para uma pessoa sobre um crime. As perguntas são:\n",
        "\n",
        "\"Telefonou para a vítima?\"\n",
        "\n",
        "\"Esteve no local do crime?\"\n",
        "\n",
        "\"Mora perto da vítima?\"\n",
        "\n",
        "\"Devia para a vítima?\"\n",
        "\n",
        "\"Já trabalhou com a vítima?\"\n",
        "\n",
        " O programa deve no final emitir uma classificação sobre a participação da pessoa no crime. \n",
        " Se a pessoa responder positivamente a 2 questões ela deve ser classificada como \"Suspeita\", entre 3 e 4 como \"Cúmplice\" e 5 como \"Assassino\".\n",
        "  Caso contrário, ele será classificado como \"Inocente\"."
      ],
      "metadata": {
        "id": "JEJReGu0Y6Rm"
      }
    },
    {
      "cell_type": "code",
      "source": [
        "perguntas = [\"Telefonou para a vítima?\", \"Esteve no local do crime?\", \"Mora perto da vítima?\", \"Devia para a vítima?\", \"Já trabalhou com a vítima?\"]\n",
        "respostas = []\n",
        "for pergunta in perguntas:\n",
        "    resposta = input(pergunta + \" (s/n) \")\n",
        "    while resposta.lower() not in [\"s\", \"n\"]:\n",
        "        resposta = input(\"Resposta inválida. Por favor, digite 's' para sim ou 'n' para não. \" + pergunta + \" (s/n) \")\n",
        "    respostas.append(resposta.lower())\n",
        "\n",
        "num_respostas_positivas = respostas.count(\"s\")\n",
        "\n",
        "if num_respostas_positivas == 5:\n",
        "    print(\"Assassino\")\n",
        "elif num_respostas_positivas >= 3:\n",
        "    print(\"Cúmplice\")\n",
        "elif num_respostas_positivas >= 2:\n",
        "    print(\"Suspeita\")\n",
        "else:\n",
        "    print(\"Inocente\")\n"
      ],
      "metadata": {
        "colab": {
          "base_uri": "https://localhost:8080/"
        },
        "id": "eJCYHJjtY6xK",
        "outputId": "25968d10-0c66-46a7-e835-c2621892e12d"
      },
      "execution_count": 1,
      "outputs": [
        {
          "output_type": "stream",
          "name": "stdout",
          "text": [
            "Telefonou para a vítima? (s/n) s\n",
            "Esteve no local do crime? (s/n) n\n",
            "Mora perto da vítima? (s/n) n\n",
            "Devia para a vítima? (s/n) s\n",
            "Já trabalhou com a vítima? (s/n) n\n",
            "Suspeita\n"
          ]
        }
      ]
    },
    {
      "cell_type": "markdown",
      "source": [
        "Faça um Programa que leia 4 notas, mostre as notas e a média na tela."
      ],
      "metadata": {
        "id": "GuTrnhRrZfx6"
      }
    },
    {
      "cell_type": "code",
      "source": [
        "notas = [float(input(\"Digite a {}ª nota: \".format(i+1))) for i in range(4)]\n",
        "media = sum(notas)/len(notas)\n",
        "\n",
        "print(\"Notas:\", notas)\n",
        "print(\"Média: {:.2f}\".format(media))\n"
      ],
      "metadata": {
        "colab": {
          "base_uri": "https://localhost:8080/"
        },
        "id": "gMv0AWWTZiQa",
        "outputId": "b977b651-9e31-4d97-ad19-1a14ad81af47"
      },
      "execution_count": 2,
      "outputs": [
        {
          "output_type": "stream",
          "name": "stdout",
          "text": [
            "Digite a 1ª nota: 8\n",
            "Digite a 2ª nota: 7\n",
            "Digite a 3ª nota: 8\n",
            "Digite a 4ª nota: 7\n",
            "Notas: [8.0, 7.0, 8.0, 7.0]\n",
            "Média: 7.50\n"
          ]
        }
      ]
    },
    {
      "cell_type": "markdown",
      "source": [
        "Faça um Programa que leia um vetor de 5 caracteres, e diga quantas consoantes foram lidas. Imprima as consoantes."
      ],
      "metadata": {
        "id": "WtLbd69FaEeG"
      }
    },
    {
      "cell_type": "code",
      "source": [
        "letras = [input(\"Digite a {}ª letra: \".format(i+1)) for i in range(5)]\n",
        "consoantes = 0\n",
        "consoantes_lista = []\n",
        "\n",
        "for letra in letras:\n",
        "    if letra not in ['a', 'e', 'i', 'o', 'u']:\n",
        "        consoantes += 1\n",
        "        consoantes_lista.append(letra)\n",
        "\n",
        "print(\"Consoantes:\", consoantes_lista)\n",
        "print(\"Total de consoantes:\", consoantes)\n"
      ],
      "metadata": {
        "colab": {
          "base_uri": "https://localhost:8080/"
        },
        "id": "h_fZfLPMaFGe",
        "outputId": "a7c6fed3-32dc-4847-927e-74725539c1f8"
      },
      "execution_count": 5,
      "outputs": [
        {
          "output_type": "stream",
          "name": "stdout",
          "text": [
            "Digite a 1ª letra: d\n",
            "Digite a 2ª letra: a\n",
            "Digite a 3ª letra: n\n",
            "Digite a 4ª letra: a\n",
            "Digite a 5ª letra: d\n",
            "Consoantes: ['d', 'n', 'd']\n",
            "Total de consoantes: 3\n"
          ]
        }
      ]
    },
    {
      "cell_type": "markdown",
      "source": [],
      "metadata": {
        "id": "RuWgJn9Na3re"
      }
    },
    {
      "cell_type": "markdown",
      "source": [
        "\n",
        "Faça um Programa que leia um vetor de 10 caracteres, e diga quantas consoantes foram lidas. Imprima as consoantes.\n",
        "\n",
        "Faça um Programa que leia 20 números inteiros e armazene-os num vetor. Armazene os números pares no vetor PAR e os números IMPARES no vetor impar. Imprima os três vetores.\n",
        "\n",
        "Faça um Programa que peça as quatro notas de 10 alunos, calcule e armazene num vetor a média de cada aluno, imprima o número de alunos com média maior ou igual a 7.0.\n",
        "\n",
        "Faça um Programa que leia um vetor de 5 números inteiros, mostre a soma, a multiplicação e os números.\n",
        "\n",
        "Faça um Programa que peça a idade e a altura de 5 pessoas, armazene cada informação no seu respectivo vetor. Imprima a idade e a altura na ordem inversa a ordem lida.\n",
        "\n",
        "Faça um Programa que leia um vetor A com 10 números inteiros, calcule e mostre a soma dos quadrados dos elementos do vetor.\n",
        "\n",
        "Faça um Programa que leia dois vetores com 10 elementos cada. Gere um terceiro vetor de 20 elementos, cujos valores deverão ser compostos pelos elementos intercalados dos dois outros vetores.\n",
        "\n",
        "Altere o programa anterior, intercalando 3 vetores de 10 elementos cada.\n",
        "Foram anotadas as idades e alturas de 30 alunos. Faça um Programa que determine quantos alunos com mais de 13 anos possuem altura inferior à média de altura desses alunos.\n"
      ],
      "metadata": {
        "id": "QQlGTA8AW-o8"
      }
    }
  ]
}