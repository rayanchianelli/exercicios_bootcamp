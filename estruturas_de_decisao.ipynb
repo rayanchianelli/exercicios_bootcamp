{
  "nbformat": 4,
  "nbformat_minor": 0,
  "metadata": {
    "colab": {
      "provenance": [],
      "authorship_tag": "ABX9TyPTW/fHBBrACSpr9CVsr3AT",
      "include_colab_link": true
    },
    "kernelspec": {
      "name": "python3",
      "display_name": "Python 3"
    },
    "language_info": {
      "name": "python"
    }
  },
  "cells": [
    {
      "cell_type": "markdown",
      "metadata": {
        "id": "view-in-github",
        "colab_type": "text"
      },
      "source": [
        "<a href=\"https://colab.research.google.com/github/rayannoyma/exercicios_bootcamp/blob/main/estruturas_de_decisao.ipynb\" target=\"_parent\"><img src=\"https://colab.research.google.com/assets/colab-badge.svg\" alt=\"Open In Colab\"/></a>"
      ]
    },
    {
      "cell_type": "markdown",
      "source": [
        "Faça um Programa que peça dois números e imprima o maior deles."
      ],
      "metadata": {
        "id": "Rdit70t3ngZS"
      }
    },
    {
      "cell_type": "code",
      "execution_count": null,
      "metadata": {
        "colab": {
          "base_uri": "https://localhost:8080/"
        },
        "id": "4VQ2HyM1m1oB",
        "outputId": "64c39490-4349-40ab-fb42-1c4dbcef5c21"
      },
      "outputs": [
        {
          "name": "stdout",
          "output_type": "stream",
          "text": [
            "Escolha um numero 11\n",
            "Escolha outro numero 9\n"
          ]
        }
      ],
      "source": [
        "x = input('Escolha um numero ')\n",
        "y = input('Escolha outro numero ')\n",
        "if x > y:\n",
        "  print('X é maior que Y')"
      ]
    },
    {
      "cell_type": "markdown",
      "source": [
        "Faça um Programa que peça um valor e mostre na tela se o valor é positivo ou negativo."
      ],
      "metadata": {
        "id": "xg_fQUVJpKt6"
      }
    },
    {
      "cell_type": "code",
      "source": [
        "x = int(input('Escolha um numero '))\n",
        "if x>0:\n",
        "  print(x,'é positivo')\n",
        "else:\n",
        "  print(x,'é negativo')"
      ],
      "metadata": {
        "colab": {
          "base_uri": "https://localhost:8080/"
        },
        "id": "eo-mK7G8pLqa",
        "outputId": "05d26bcd-331a-40c8-8f49-4430545e6fa7"
      },
      "execution_count": null,
      "outputs": [
        {
          "output_type": "stream",
          "name": "stdout",
          "text": [
            "Escolha um numero -15\n",
            "-15 é negativo\n"
          ]
        }
      ]
    },
    {
      "cell_type": "markdown",
      "source": [
        "Faça um Programa que verifique se uma letra digitada é \"F\" ou \"M\". Conforme a letra escrever: F - Feminino, M - Masculino, Sexo Inválido."
      ],
      "metadata": {
        "id": "eU4DQ47bqHUn"
      }
    },
    {
      "cell_type": "code",
      "source": [
        "z = input('Escolha F ou M ')\n",
        "if z == 'F':\n",
        "  print('Feminino')\n",
        "elif z == 'M':\n",
        "    print('Masculino')\n",
        "else:\n",
        "  print('Sexo Invalido')"
      ],
      "metadata": {
        "colab": {
          "base_uri": "https://localhost:8080/"
        },
        "id": "Y9nJu7pdqIBN",
        "outputId": "0058661e-c52c-4ada-d5d0-fc42bdc357fb"
      },
      "execution_count": null,
      "outputs": [
        {
          "output_type": "stream",
          "name": "stdout",
          "text": [
            "Escolha F ou M F\n",
            "Feminino\n"
          ]
        }
      ]
    },
    {
      "cell_type": "markdown",
      "source": [
        "Faça um Programa que verifique se uma letra digitada é vogal ou consoante."
      ],
      "metadata": {
        "id": "WtNmteJsrvlR"
      }
    },
    {
      "cell_type": "code",
      "source": [
        "t = input('Escolha uma letra de a ate z: ')\n",
        "if t == 'a':\n",
        "  print(t,'é uma vogal.')\n",
        "elif t == 'e':\n",
        "  print(t,'é uma vogal.')\n",
        "elif t == 'i':\n",
        "  print(t,'é uma vogal.')\n",
        "elif t == 'o':\n",
        "  print(t,'é uma vogal.')\n",
        "elif t == 'u':\n",
        "  print(t,'é uma vogal.')\n",
        "else:\n",
        "  print(t,'é uma consoante.')"
      ],
      "metadata": {
        "colab": {
          "base_uri": "https://localhost:8080/"
        },
        "id": "gBDOPC5srYtK",
        "outputId": "8930903e-242e-4633-bb6c-187038b7cdc1"
      },
      "execution_count": 59,
      "outputs": [
        {
          "output_type": "stream",
          "name": "stdout",
          "text": [
            "Escolha uma letra de a ate z: c\n",
            "c é uma consoante.\n"
          ]
        }
      ]
    },
    {
      "cell_type": "markdown",
      "source": [
        "Faça um programa para a leitura de duas notas parciais de um aluno. O programa deve calcular a média alcançada por aluno e apresentar:\n",
        "\n",
        "A mensagem \"Aprovado\", se a média alcançada for maior ou igual a sete;\n",
        "\n",
        "A mensagem \"Reprovado\", se a média for menor do que sete;\n",
        "\n",
        "A mensagem \"Aprovado com Distinção\", se a média for igual a dez."
      ],
      "metadata": {
        "id": "OFQvH0GAtdd3"
      }
    },
    {
      "cell_type": "code",
      "source": [
        "nota1 = int(input('Insira aqui sua nota: '))\n",
        "nota2 = int(input('Insira aqui sua nota: '))\n",
        "media = (nota1 + nota2)/2\n",
        "if media == 10:\n",
        "  print('Aprovado com distinção')\n",
        "elif media>7:\n",
        "   print('Aprovado')\n",
        "else:\n",
        "      print('Reprovado')"
      ],
      "metadata": {
        "colab": {
          "base_uri": "https://localhost:8080/"
        },
        "id": "y-vwn8kiteY_",
        "outputId": "970a1928-1ab0-4d47-a67d-c32cc0a69c30"
      },
      "execution_count": null,
      "outputs": [
        {
          "output_type": "stream",
          "name": "stdout",
          "text": [
            "Insira aqui sua nota: 5\n",
            "Insira aqui sua nota: 5\n",
            "Reprovado\n"
          ]
        }
      ]
    },
    {
      "cell_type": "markdown",
      "source": [
        "\n",
        "Faça um Programa que pergunte em que turno você estuda. Peça para digitar M-matutino ou V-Vespertino ou N- Noturno. Imprima a mensagem \"Bom Dia!\", \"Boa Tarde!\" ou \"Boa Noite!\" ou \"Valor Inválido!\", conforme o caso."
      ],
      "metadata": {
        "id": "GJ6ftFH0uwr0"
      }
    },
    {
      "cell_type": "code",
      "source": [
        "x = input('Escolha seu turno de estudo (M-matutino ou V-Vespertino ou N- Noturno):')\n",
        "if x == 'M':\n",
        "  print('Bom dia!')\n",
        "elif x == 'V':\n",
        "  print('Boa tarde!')\n",
        "elif x == 'N':\n",
        "  print('Boa Noite!')\n",
        "else:\n",
        "  print('Valor Invalido!')"
      ],
      "metadata": {
        "colab": {
          "base_uri": "https://localhost:8080/"
        },
        "id": "uI101mcw08vL",
        "outputId": "412e5974-1bd6-4ce0-b6c8-42a15284a822"
      },
      "execution_count": 44,
      "outputs": [
        {
          "output_type": "stream",
          "name": "stdout",
          "text": [
            "Escolha seu turno de estudo (M-matutino ou V-Vespertino ou N- Noturno):N\n",
            "Boa Noite!\n"
          ]
        }
      ]
    },
    {
      "cell_type": "markdown",
      "source": [
        "Faça um codigo que leia três números e mostre o maior deles. "
      ],
      "metadata": {
        "id": "P-xBDFyIu8U1"
      }
    },
    {
      "cell_type": "code",
      "source": [
        "num1 = int(input('Insira aqui um numero: '))\n",
        "num2 = int(input('Insira aqui um numero: '))\n",
        "num3 = int(input('Insira aqui um numero: '))\n",
        "\n",
        "if num1>num2 and num1>num3:\n",
        "  print(num1,'é o maior numero.')\n",
        "elif num2>num1 and num2>num3:\n",
        "  print(num2,'é o maior numero.')\n",
        "else:\n",
        "  print(num3,'é o maior numero.')"
      ],
      "metadata": {
        "colab": {
          "base_uri": "https://localhost:8080/"
        },
        "id": "YAu-hP3Ju7q5",
        "outputId": "037057ec-ca51-4d90-ec41-481b208dd177"
      },
      "execution_count": null,
      "outputs": [
        {
          "output_type": "stream",
          "name": "stdout",
          "text": [
            "Insira aqui um numero: 7\n",
            "Insira aqui um numero: 8\n",
            "Insira aqui um numero: 9\n",
            "9 é o maior numero.\n"
          ]
        }
      ]
    },
    {
      "cell_type": "markdown",
      "source": [
        "Faça um programa que pergunte o preço de três produtos e informe qual produto você deve comprar, sabendo que a decisão é sempre pelo mais barato. "
      ],
      "metadata": {
        "id": "wPQhzl-Ywk-t"
      }
    },
    {
      "cell_type": "code",
      "source": [
        "preco1= float(input('Insira aqui o preço: '))\n",
        "preco2 = float(input('Insira aqui o segundo preço: '))\n",
        "preco3 = float(input('Insira aqui o terceiro preço: '))\n",
        "\n",
        "if preco3>preco1 and preco2>preco1:\n",
        "  print('O primeiro é mais barato.')\n",
        "elif preco3>preco2 and preco1>preco2:\n",
        "  print('O segundo é mais barato.')\n",
        "else:\n",
        "  print('O terceiro é o mais barato')"
      ],
      "metadata": {
        "colab": {
          "base_uri": "https://localhost:8080/"
        },
        "id": "1upNZLg0wkj9",
        "outputId": "506f0249-c876-430f-c1d5-6511826c606d"
      },
      "execution_count": null,
      "outputs": [
        {
          "output_type": "stream",
          "name": "stdout",
          "text": [
            "Insira aqui o preço: 5.4\n",
            "Insira aqui o segundo preço: 9.5\n",
            "Insira aqui o terceiro preço: 8.7\n",
            "O primeiro é mais barato.\n"
          ]
        }
      ]
    },
    {
      "cell_type": "markdown",
      "source": [
        "\n",
        "Faça um Programa que leia três números e mostre-os em ordem decrescente."
      ],
      "metadata": {
        "id": "40jJh0mUx40H"
      }
    },
    {
      "cell_type": "code",
      "source": [
        "num1 = float(input('Digite o primeiro número: '))\n",
        "num2 = float(input('Digite o segundo número: '))\n",
        "num3 = float(input('Digite o terceiro número: '))\n",
        "\n",
        "if num1 >= num2 and num1 >= num3:\n",
        "    maior = num1\n",
        "    if num2 >= num3:\n",
        "        meio = num2\n",
        "        menor = num3\n",
        "    else:\n",
        "        meio = num3\n",
        "        menor = num2\n",
        "elif num2 >= num1 and num2 >= num3:\n",
        "    maior = num2\n",
        "    if num1 >= num3:\n",
        "        meio = num1\n",
        "        menor = num3\n",
        "    else:\n",
        "        meio = num3\n",
        "        menor = num1\n",
        "else:\n",
        "    maior = num3\n",
        "    if num1 >= num2:\n",
        "        meio = num1\n",
        "        menor = num2\n",
        "    else:\n",
        "        meio = num2\n",
        "        menor = num1\n",
        "\n",
        "print('Os números em ordem decrescente são: ', maior, meio, menor)\n"
      ],
      "metadata": {
        "colab": {
          "base_uri": "https://localhost:8080/"
        },
        "id": "blNrSOka0qQj",
        "outputId": "5846deef-54ec-4176-9c0b-e6fb693181a7"
      },
      "execution_count": 36,
      "outputs": [
        {
          "output_type": "stream",
          "name": "stdout",
          "text": [
            "Digite o primeiro número: 8\n",
            "Digite o segundo número: 9\n",
            "Digite o terceiro número: 7\n",
            "Os números em ordem decrescente são:  9.0 8.0 7.0\n"
          ]
        }
      ]
    },
    {
      "cell_type": "markdown",
      "source": [
        "As Organizações Tabajara resolveram dar um aumento de salário aos seus colaboradores e lhe contraram para desenvolver o programa que calculará os reajustes.\n",
        "\n",
        "Faça um programa que recebe o salário de um colaborador e o reajuste segundo o seguinte critério, baseado no salário atual:\n",
        "\n",
        "salários até  280,00 (incluindo) : aumento de 20%\n",
        "\n",
        "salários entre  280,00 e 700,00 : aumento de 15%\n",
        "\n",
        "salários entre  700,00 e 1500,00 : aumento de 10%\n",
        "\n",
        "salários de 1500,00 em diante : aumento de 5%\n",
        "\n",
        "Após o aumento ser realizado, informe na tela:\n",
        "o salário antes do reajuste;\n",
        "o percentual de aumento aplicado;\n",
        "o valor do aumento;\n",
        "o novo salário, após o aumento."
      ],
      "metadata": {
        "id": "THNuYlQ-2cC8"
      }
    },
    {
      "cell_type": "code",
      "source": [
        "x = float(input('Digite o valor do seu salario: '))\n",
        "if x<= 280:\n",
        "  x1= x+(x*0.2)\n",
        "  print('Seu salario recebeu 20% de aumento e o valor atual é ',x1)\n",
        "elif x>280 and x<700:\n",
        "  x2= x+(x*0.15)\n",
        "  print('Seu salário recebeu 15% de aumento e o valor atual é ',x2)\n",
        "elif x>700 and x<1500:\n",
        "  x3= x +(x*0.1)\n",
        "  print('Seu salario recebeu 10% de aumento e o valor atual é ',x3)\n",
        "elif x>=1500:\n",
        "  x4=x+(x*0.05)\n",
        "  print('Seu salario recebeu 5% de aumento e o valor atual é ',x4)\n"
      ],
      "metadata": {
        "colab": {
          "base_uri": "https://localhost:8080/"
        },
        "id": "YpFcRFBk026M",
        "outputId": "e6c59c23-0fb2-46d7-d74a-c556631b7b29"
      },
      "execution_count": 54,
      "outputs": [
        {
          "output_type": "stream",
          "name": "stdout",
          "text": [
            "Digite o valor do seu salario: 1500\n",
            "Seu salario recebeu 5% de aumento e o valor atual é  1575.0\n"
          ]
        }
      ]
    },
    {
      "cell_type": "markdown",
      "source": [
        "Faça um programa para o cálculo de uma folha de pagamento, sabendo que os descontos são do Imposto de Renda, que depende do salário bruto (conforme tabela abaixo) e 3% para o Sindicato e que o FGTS corresponde a 11% do Salário Bruto, mas não é descontado (é a empresa que deposita). \n",
        "\n",
        "O Salário Líquido corresponde ao Salário Bruto menos os descontos. O programa deverá pedir ao usuário o valor da sua hora e a quantidade de horas trabalhadas no mês.\n",
        "\n",
        "Desconto do IR:\n",
        "\n",
        "Salário Bruto até 900 (inclusive) - isento\n",
        "\n",
        "Salário Bruto até 1500 (inclusive) - desconto de 5%\n",
        "\n",
        "Salário Bruto até 2500 (inclusive) - desconto de 10%\n",
        "\n",
        "Salário Bruto acima de 2500 - desconto de 20% Imprima na tela as informações, dispostas conforme o exemplo abaixo. \n",
        "\n",
        "\n",
        "No exemplo o valor da hora é 5 e a quantidade de hora é 220.\n",
        "\n",
        "        Salário Bruto: (5 * 220)        : R$ 1100,00\n",
        "\n",
        "        (-) IR (5%)                     : R$   55,00  \n",
        "\n",
        "        (-) INSS ( 10%)                 : R$  110,00\n",
        "\n",
        "        FGTS (11%)                      : R$  121,00\n",
        "\n",
        "        Total de descontos              : R$  165,00\n",
        "        \n",
        "        Salário Liquido                 : R$  935,00"
      ],
      "metadata": {
        "id": "oB1-mBLp6Mak"
      }
    },
    {
      "cell_type": "code",
      "source": [
        "x = float(input('Insira aqui o valor da hora trabalhada: '))\n",
        "y = float(input('Insira aqui a quantidade de horas trabalhadas: '))\n",
        "\n",
        "sal_b= x*y\n",
        "ir= sal_b*0.05\n",
        "inss= sal_b*0.01\n",
        "fgts= sal_b*0.11\n",
        "descontos = sal_b - (ir + inss)\n",
        "sal_liq = sal_b - descontos\n",
        "\n",
        "if sal_b <=900:\n",
        "  print('O salario bruto é',sal_b)\n",
        "  print('O Salario liquido é', sal_b-(sal_b*0.01),'.')\n",
        "  print('O Fgts pago pela empresa é', sal_b*0.11,'.')\n",
        "  print('O total de descontos é', sal_b-(sal_b*0.11),'.')\n",
        "elif sal_b>900 and sal_b<= 1500:\n",
        "  print('O salario bruto é',sal_b)\n",
        "  print('O Salario liquido é', sal_b-(sal_b*0.01),'.')\n",
        "  print('O Imposto de renda é', sal_b*0.05,'.')\n",
        "  print('O Fgts pago pela empresa é', sal_b*0.11,'.')\n",
        "  print('O total de descontos é', sal_b-(sal_b*0.11),'.')\n",
        "elif sal_b>1500 and sal_b<= 2500:\n",
        "  print('O salario bruto é',sal_b)\n",
        "  print('O Salario liquido é', sal_b-(sal_b*0.01),'.')\n",
        "  print('O Imposto de renda é', sal_b*0.01,'.')\n",
        "  print('O Fgts pago pela empresa é', sal_b*0.11,'.')\n",
        "  print('O total de descontos é', sal_b-(sal_b*0.11),'.')\n",
        "elif sal_b>2500:\n",
        "  print('O salario bruto é',sal_b)\n",
        "  print('O Salario liquido é', sal_b-(sal_b*0.01),'.')\n",
        "  print('O Imposto de renda é', sal_b*0.02,'.')\n",
        "  print('O Fgts pago pela empresa é', sal_b*0.11,'.')\n",
        "  print('O total de descontos é', sal_b-(sal_b*0.11),'.')\n",
        "\n",
        "\n"
      ],
      "metadata": {
        "colab": {
          "base_uri": "https://localhost:8080/"
        },
        "id": "kAw4JjWX67Op",
        "outputId": "433c0820-5200-4e2e-8846-e9080786e3a9"
      },
      "execution_count": 61,
      "outputs": [
        {
          "output_type": "stream",
          "name": "stdout",
          "text": [
            "Insira aqui o valor da hora trabalhada: 6\n",
            "Insira aqui a quantidade de horas trabalhadas: 300\n",
            "O salario bruto é 1800.0\n",
            "O Salario liquido é 1782.0 .\n",
            "O Imposto de renda é 18.0 .\n",
            "O Fgts pago pela empresa é 198.0 .\n",
            "O total de descontos é 1602.0 .\n"
          ]
        }
      ]
    },
    {
      "cell_type": "markdown",
      "source": [
        "Faça um codigo que leia um número e exiba o dia correspondente da semana. (1-Domingo, 2- Segunda, etc.), se digitar outro valor deve aparecer valor inválido."
      ],
      "metadata": {
        "id": "xkWLJmL4CGxF"
      }
    },
    {
      "cell_type": "code",
      "source": [
        "x = int(input('Insira um numero: '))\n",
        "\n",
        "if x == 1:\n",
        "  print('Domingo')\n",
        "elif x == 2:\n",
        "  print('Segunda-feira')\n",
        "elif x == 3:\n",
        "  print('Terça-feira')\n",
        "elif x == 4:\n",
        "  print('Quarta-feira')\n",
        "elif x == 5:\n",
        "  print('Quinta-feira')\n",
        "elif x == 6:\n",
        "  print('Sexta-feira')\n",
        "elif x == 7:\n",
        "  print('Sabado')\n",
        "else:\n",
        "  print('Invalido')"
      ],
      "metadata": {
        "colab": {
          "base_uri": "https://localhost:8080/"
        },
        "id": "W8U3SfWbAwtl",
        "outputId": "1f07d7af-178e-4e33-b06b-80d9b9d5cd4b"
      },
      "execution_count": 63,
      "outputs": [
        {
          "output_type": "stream",
          "name": "stdout",
          "text": [
            "Insira um numero: 8\n",
            "Invalido\n"
          ]
        }
      ]
    },
    {
      "cell_type": "markdown",
      "source": [
        "Faça um programa que lê as duas notas parciais obtidas por um aluno numa disciplina ao longo de um semestre, e calcule a sua média.\n",
        "A atribuição de conceitos obedece à tabela abaixo:\n",
        "\n",
        "  Média de Aproveitamento  Conceito\n",
        "\n",
        "  Entre 9.0 e 10.0        A\n",
        "\n",
        "  Entre 7.5 e 9.0         B\n",
        "\n",
        "  Entre 6.0 e 7.5         C\n",
        "\n",
        "  Entre 4.0 e 6.0         D\n",
        "\n",
        "  Entre 4.0 e zero        E\n",
        "\n",
        "  O algoritmo deve mostrar na tela as notas, a média, o conceito correspondente e a mensagem “APROVADO” se o conceito for A, B ou C ou “REPROVADO” se o conceito for D ou E."
      ],
      "metadata": {
        "id": "NPGErO6vDBcA"
      }
    },
    {
      "cell_type": "code",
      "source": [
        "av1 = float(input('Insira aqui a nota da AV1 '))\n",
        "av2 = float(input('Insira aqui a nota da AV2 '))\n",
        "m = (av1 + av2 )/ 2\n",
        "print('A média é', m)\n",
        "if m>=9:\n",
        "  print('Conceito A, esta aprovado')\n",
        "elif m>=7.5 and m<9:\n",
        "  print('Conceito B, esta aprovado'),\n",
        "elif m>=6 and m<7.5:\n",
        "  print('Conceito C, esta aprovado')\n",
        "elif m>=4 and m<6:\n",
        "  print('Conceito D, esta reprovado')\n",
        "elif m>=0 and m<4:\n",
        "  print('Conceito E, esta reprovado')"
      ],
      "metadata": {
        "colab": {
          "base_uri": "https://localhost:8080/"
        },
        "id": "jhu0bf3YDBvf",
        "outputId": "bc6eee3d-7ee8-47e7-892c-21af1595c1fc"
      },
      "execution_count": 77,
      "outputs": [
        {
          "output_type": "stream",
          "name": "stdout",
          "text": [
            "Insira aqui a nota da AV1 8\n",
            "Insira aqui a nota da AV2 7\n",
            "A média é 7.5\n",
            "Conceito B, esta aprovado\n"
          ]
        }
      ]
    },
    {
      "cell_type": "markdown",
      "source": [
        "Faça um Programa que peça os 3 lados de um triângulo. \n",
        "\n",
        "O programa deverá informar se os valores podem ser um triângulo. \n",
        "\n",
        "Indique, caso os lados formem um triângulo, se o mesmo é: equilátero, isósceles ou escaleno.\n",
        "\n",
        "Dicas:\n",
        "\n",
        "Três lados formam um triângulo quando a soma de quaisquer dois lados for maior que o terceiro;\n",
        "\n",
        "Triângulo Equilátero: três lados iguais;\n",
        "\n",
        "Triângulo Isósceles: quaisquer dois lados iguais;\n",
        "\n",
        "Triângulo Escaleno: três lados diferentes;"
      ],
      "metadata": {
        "id": "R-DE6OnoGaky"
      }
    },
    {
      "cell_type": "code",
      "source": [
        "l1 = input('Insira o valor do lado 1 do triangulo ')\n",
        "l2 = input('Insira o valor do lado 2 do triangulo ')\n",
        "l3 = input('Insira o valor do lado 3 do triangulo ')\n",
        "\n",
        "if l1 == l2 and l1 == l3:\n",
        "  print('É um tringulo equilatero.')\n",
        "elif l1 == l2 and l1!=l3 or l1!=l2 and l1==l3:\n",
        "  print('É um triangulo isosceles.')\n",
        "elif l1!=l2 and l1!=l3:\n",
        "  print('É um triangulo escaleno.')\n"
      ],
      "metadata": {
        "colab": {
          "base_uri": "https://localhost:8080/"
        },
        "id": "IMZ3NyBDGjTL",
        "outputId": "a5778a22-a6cb-4323-b3df-de3b1c06dba7"
      },
      "execution_count": 81,
      "outputs": [
        {
          "output_type": "stream",
          "name": "stdout",
          "text": [
            "Insira o valor do lado 1 do triangulo 1\n",
            "Insira o valor do lado 2 do triangulo 2\n",
            "Insira o valor do lado 3 do triangulo 1\n",
            "É um triangulo isosceles.\n"
          ]
        }
      ]
    },
    {
      "cell_type": "markdown",
      "source": [
        "Faça um codigo que calcule as raízes de uma equação do segundo grau, na forma ax2 + bx + c. \n",
        "\n",
        "O codigo deverá pedir os valores de a, b e c e fazer as consistências, informando ao usuário nas seguintes situações:\n",
        "\n",
        "Se o usuário informar o valor de A igual a zero, a equação não é do segundo grau e o codigo não deve fazer pedir os demais valores, sendo encerrado;\n",
        "\n",
        "Se o delta calculado for negativo, a equação não possui raizes reais. Informe ao usuário e encerre o codigo;\n",
        "\n",
        "Se o delta calculado for igual a zero a equação possui apenas uma raiz real; informe-a ao usuário;\n",
        "\n",
        "Se o delta for positivo, a equação possui duas raiz reais; informe-as ao usuário;\n"
      ],
      "metadata": {
        "id": "SW6OsTG7IWra"
      }
    },
    {
      "cell_type": "code",
      "source": [
        "a = float(input(\"Digite o valor de a: \"))\n",
        "if a == 0:\n",
        "    print(\"Não é uma equação do segundo grau.\")\n",
        "else:\n",
        "    b = float(input(\"Digite o valor de b: \"))\n",
        "    c = float(input(\"Digite o valor de c: \"))\n",
        "    delta = b**2 - 4*a*c\n",
        "    if delta < 0:\n",
        "        print(\"A equação não possui raízes reais.\")\n",
        "    elif delta == 0:\n",
        "        x = -b/(2*a)\n",
        "        print(f\"A equação possui apenas uma raiz real: {x}\")\n",
        "    else:\n",
        "        x1 = (-b + delta**0.5)/(2*a)\n",
        "        x2 = (-b - delta**0.5)/(2*a)\n",
        "        print(f\"A equação possui duas raízes reais: {x1} e {x2}\")"
      ],
      "metadata": {
        "colab": {
          "base_uri": "https://localhost:8080/"
        },
        "id": "bLtnOoYqK2V7",
        "outputId": "8f6168cc-81bf-45c5-acb2-322209bd40d1"
      },
      "execution_count": 82,
      "outputs": [
        {
          "output_type": "stream",
          "name": "stdout",
          "text": [
            "Digite o valor de a: 5\n",
            "Digite o valor de b: 6\n",
            "Digite o valor de c: 4\n",
            "A equação não possui raízes reais.\n"
          ]
        }
      ]
    },
    {
      "cell_type": "markdown",
      "source": [
        "Faça um Programa que peça um número correspondente a um determinado ano e em seguida informe se este ano é ou não bissexto."
      ],
      "metadata": {
        "id": "JZcYidV6LFdb"
      }
    },
    {
      "cell_type": "code",
      "source": [
        "x = int(input('Insira um ano: '))\n",
        "if x % 4 == 0:\n",
        "  print('é um ano bissexto.')\n",
        "else:\n",
        "  print('Não é um ano bissexto.')"
      ],
      "metadata": {
        "colab": {
          "base_uri": "https://localhost:8080/"
        },
        "id": "YeDVKJp0LGhz",
        "outputId": "f2654de2-c0fe-490a-fb6f-87520b3486d4"
      },
      "execution_count": 87,
      "outputs": [
        {
          "output_type": "stream",
          "name": "stdout",
          "text": [
            "Insira um ano: 1946\n",
            "Não é um ano bissexto.\n"
          ]
        }
      ]
    },
    {
      "cell_type": "code",
      "source": [],
      "metadata": {
        "id": "9mHxBuQfMz36"
      },
      "execution_count": null,
      "outputs": []
    }
  ]
}